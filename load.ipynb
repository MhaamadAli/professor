{
 "cells": [
  {
   "cell_type": "code",
   "execution_count": 5,
   "metadata": {},
   "outputs": [],
   "source": [
    "from dotenv import load_dotenv\n",
    "load_dotenv()\n",
    "import os\n",
    "import google.generativeai as genai\n",
    "from pinecone import Pinecone, ServerlessSpec"
   ]
  },
  {
   "cell_type": "code",
   "execution_count": 7,
   "metadata": {},
   "outputs": [],
   "source": [
    "pc=Pinecone(api_key=os.getenv(\"PINECONE_API_KEY\"))\n",
    "pc.create_index(\n",
    "    name=\"rag\", dimension=768, metric=\"cosine\", spec=ServerlessSpec(cloud=\"aws\", region=\"us-east-1\")\n",
    ")"
   ]
  },
  {
   "cell_type": "code",
   "execution_count": 8,
   "metadata": {},
   "outputs": [
    {
     "data": {
      "text/plain": [
       "[{'professor': 'Dr. John Smith',\n",
       "  'subject': 'Computer Science',\n",
       "  'stars': 5,\n",
       "  'review': 'Dr. Smith is an excellent professor who explains concepts very clearly.'},\n",
       " {'professor': 'Dr. Emily Johnson',\n",
       "  'subject': 'Mathematics',\n",
       "  'stars': 4,\n",
       "  'review': 'Dr. Johnson is very knowledgeable but can be a bit fast-paced.'},\n",
       " {'professor': 'Dr. Michael Brown',\n",
       "  'subject': 'Physics',\n",
       "  'stars': 3,\n",
       "  'review': 'The lectures are okay, but the exams are quite difficult.'},\n",
       " {'professor': 'Dr. Sarah Davis',\n",
       "  'subject': 'Chemistry',\n",
       "  'stars': 5,\n",
       "  'review': 'Amazing professor! Her labs are very well organized.'},\n",
       " {'professor': 'Dr. James Wilson',\n",
       "  'subject': 'History',\n",
       "  'stars': 2,\n",
       "  'review': 'Not very engaging, and the material is dry.'},\n",
       " {'professor': 'Dr. Linda Garcia',\n",
       "  'subject': 'Biology',\n",
       "  'stars': 4,\n",
       "  'review': 'Dr. Garcia is great, but her grading is tough.'},\n",
       " {'professor': 'Dr. Robert Martinez',\n",
       "  'subject': 'Political Science',\n",
       "  'stars': 3,\n",
       "  'review': 'Interesting lectures, but the workload is heavy.'},\n",
       " {'professor': 'Dr. Karen Anderson',\n",
       "  'subject': 'Psychology',\n",
       "  'stars': 5,\n",
       "  'review': 'Dr. Anderson is passionate about the subject and it shows in her teaching.'},\n",
       " {'professor': 'Dr. Richard Taylor',\n",
       "  'subject': 'Economics',\n",
       "  'stars': 4,\n",
       "  'review': 'Good professor, but sometimes hard to follow.'},\n",
       " {'professor': 'Dr. Jennifer Thomas',\n",
       "  'subject': 'Sociology',\n",
       "  'stars': 3,\n",
       "  'review': 'The content is interesting, but the lectures can be boring.'},\n",
       " {'professor': 'Dr. William Harris',\n",
       "  'subject': 'Philosophy',\n",
       "  'stars': 5,\n",
       "  'review': 'Dr. Harris encourages deep thinking and class discussions.'},\n",
       " {'professor': 'Dr. Elizabeth Clark',\n",
       "  'subject': 'Literature',\n",
       "  'stars': 4,\n",
       "  'review': 'Engaging lectures, but the reading load is heavy.'},\n",
       " {'professor': 'Dr. Charles Lewis',\n",
       "  'subject': 'Art History',\n",
       "  'stars': 3,\n",
       "  'review': 'The lectures are informative, but the assignments are unclear.'},\n",
       " {'professor': 'Dr. Barbara Robinson',\n",
       "  'subject': 'Anthropology',\n",
       "  'stars': 4,\n",
       "  'review': 'Interesting material, but can be hard to stay focused.'},\n",
       " {'professor': 'Dr. Thomas Walker',\n",
       "  'subject': 'Environmental Science',\n",
       "  'stars': 5,\n",
       "  'review': 'Dr. Walker is inspiring and passionate about environmental issues.'},\n",
       " {'professor': 'Dr. Jessica King',\n",
       "  'subject': 'Statistics',\n",
       "  'stars': 2,\n",
       "  'review': \"The class is challenging, and Dr. King doesn't explain things well.\"},\n",
       " {'professor': 'Dr. Mark Perez',\n",
       "  'subject': 'Engineering',\n",
       "  'stars': 5,\n",
       "  'review': 'Dr. Perez is great at making complex concepts easy to understand.'},\n",
       " {'professor': 'Dr. Laura Scott',\n",
       "  'subject': 'Music',\n",
       "  'stars': 4,\n",
       "  'review': 'Dr. Scott is very talented, but the class requires a lot of practice.'},\n",
       " {'professor': 'Dr. Steven Green',\n",
       "  'subject': 'Geology',\n",
       "  'stars': 3,\n",
       "  'review': 'The field trips are great, but the lectures can be dull.'},\n",
       " {'professor': 'Dr. Angela Young',\n",
       "  'subject': 'Education',\n",
       "  'stars': 4,\n",
       "  'review': 'Dr. Young is a caring professor, but her grading is strict.'}]"
      ]
     },
     "execution_count": 8,
     "metadata": {},
     "output_type": "execute_result"
    }
   ],
   "source": [
    "import json\n",
    "data = json.load(open(\"reviews.json\"))\n",
    "data['reviews']"
   ]
  },
  {
   "cell_type": "code",
   "execution_count": 13,
   "metadata": {},
   "outputs": [],
   "source": [
    "genai.configure(api_key=os.getenv(\"GEMINI_API_KEY\"))\n",
    "\n",
    "processed_data = []\n",
    "model = 'models/embedding-001'\n",
    "\n",
    "for review in data['reviews']:\n",
    "    # Generate embedding using Gemini\n",
    "    embedding = genai.embed_content(\n",
    "        model=model,\n",
    "        content=review['review'],\n",
    "        task_type=\"retrieval_document\"\n",
    "    )\n",
    "    \n",
    "    processed_data.append({\n",
    "        \"values\": embedding['embedding'],\n",
    "        \"id\": review[\"professor\"],\n",
    "        \"metadata\": {\n",
    "            \"review\": review[\"review\"],\n",
    "            \"subjects\": review[\"subject\"],\n",
    "            \"stars\": review[\"stars\"]\n",
    "        }\n",
    "    })\n"
   ]
  },
  {
   "cell_type": "code",
   "execution_count": 14,
   "metadata": {},
   "outputs": [
    {
     "name": "stdout",
     "output_type": "stream",
     "text": [
      "Upserted count: 20\n"
     ]
    }
   ],
   "source": [
    "index = pc.Index(\"rag\")\n",
    "upsert_response = index.upsert(\n",
    "    vectors=processed_data,\n",
    "    namespace=\"ns1\",\n",
    ")\n",
    "print(f\"Upserted count: {upsert_response['upserted_count']}\")"
   ]
  }
 ],
 "metadata": {
  "kernelspec": {
   "display_name": "rag",
   "language": "python",
   "name": "python3"
  },
  "language_info": {
   "codemirror_mode": {
    "name": "ipython",
    "version": 3
   },
   "file_extension": ".py",
   "mimetype": "text/x-python",
   "name": "python",
   "nbconvert_exporter": "python",
   "pygments_lexer": "ipython3",
   "version": "3.10.14"
  }
 },
 "nbformat": 4,
 "nbformat_minor": 2
}
